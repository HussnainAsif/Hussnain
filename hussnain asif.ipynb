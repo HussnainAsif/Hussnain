{
 "cells": [
  {
   "cell_type": "code",
   "execution_count": 1,
   "id": "dc13d70c",
   "metadata": {},
   "outputs": [
    {
     "ename": "IndentationError",
     "evalue": "unexpected indent (Temp/ipykernel_11796/1971422761.py, line 5)",
     "output_type": "error",
     "traceback": [
      "\u001b[1;36m  File \u001b[1;32m\"C:\\Users\\dell\\AppData\\Local\\Temp/ipykernel_11796/1971422761.py\"\u001b[1;36m, line \u001b[1;32m5\u001b[0m\n\u001b[1;33m    for path in filepaths :\u001b[0m\n\u001b[1;37m    ^\u001b[0m\n\u001b[1;31mIndentationError\u001b[0m\u001b[1;31m:\u001b[0m unexpected indent\n"
     ]
    }
   ],
   "source": [
    "import os \n",
    "folderpath =r\"C:\\Users \\Dell \\OneDrive \\Documents \\wikii\" \n",
    "filepaths= [os.path.join (folderpath, name) for name in os.listdir(folderpath) ] \n",
    "all_files = [ ]\n",
    " for path in filepaths : \n",
    "        with open (path, 'r encoding=\"IS0- 8859-1\") as f:\n",
    "file = f.readlines () \n",
    "all_files. append (file)\n",
    "all_files"
   ]
  },
  {
   "cell_type": "code",
   "execution_count": 2,
   "id": "2978325d",
   "metadata": {},
   "outputs": [
    {
     "ename": "NameError",
     "evalue": "name 'all_files' is not defined",
     "output_type": "error",
     "traceback": [
      "\u001b[1;31m---------------------------------------------------------------------------\u001b[0m",
      "\u001b[1;31mNameError\u001b[0m                                 Traceback (most recent call last)",
      "\u001b[1;32m~\\AppData\\Local\\Temp/ipykernel_11796/2344398309.py\u001b[0m in \u001b[0;36m<module>\u001b[1;34m\u001b[0m\n\u001b[1;32m----> 1\u001b[1;33m \u001b[0msizeOfmyfiles\u001b[0m \u001b[1;33m=\u001b[0m\u001b[0mlen\u001b[0m \u001b[1;33m(\u001b[0m\u001b[0mall_files\u001b[0m\u001b[1;33m)\u001b[0m\u001b[1;33m\u001b[0m\u001b[1;33m\u001b[0m\u001b[0m\n\u001b[0m\u001b[0;32m      2\u001b[0m \u001b[0mprint\u001b[0m \u001b[1;33m(\u001b[0m\u001b[0msize0fmyfiles\u001b[0m\u001b[1;33m)\u001b[0m\u001b[1;33m\u001b[0m\u001b[1;33m\u001b[0m\u001b[0m\n\u001b[0;32m      3\u001b[0m \u001b[1;33m\u001b[0m\u001b[0m\n\u001b[0;32m      4\u001b[0m \u001b[0mlistToStr\u001b[0m \u001b[1;33m=\u001b[0m\u001b[1;34m' '\u001b[0m\u001b[1;33m.\u001b[0m\u001b[0mjoin\u001b[0m \u001b[1;33m(\u001b[0m\u001b[0mmap\u001b[0m \u001b[1;33m(\u001b[0m\u001b[0mstr\u001b[0m\u001b[1;33m,\u001b[0m \u001b[0mall_files\u001b[0m\u001b[1;33m)\u001b[0m\u001b[1;33m)\u001b[0m\u001b[1;33m\u001b[0m\u001b[1;33m\u001b[0m\u001b[0m\n\u001b[0;32m      5\u001b[0m \u001b[0mlistToStr\u001b[0m\u001b[1;33m\u001b[0m\u001b[1;33m\u001b[0m\u001b[0m\n",
      "\u001b[1;31mNameError\u001b[0m: name 'all_files' is not defined"
     ]
    }
   ],
   "source": [
    "sizeOfmyfiles =len (all_files) \n",
    "print (size0fmyfiles)\n",
    "\n",
    "listToStr =' '.join (map (str, all_files))\n",
    "listToStr"
   ]
  },
  {
   "cell_type": "code",
   "execution_count": 3,
   "id": "33cbd740",
   "metadata": {},
   "outputs": [
    {
     "ename": "SyntaxError",
     "evalue": "invalid syntax (Temp/ipykernel_11796/3357525777.py, line 4)",
     "output_type": "error",
     "traceback": [
      "\u001b[1;36m  File \u001b[1;32m\"C:\\Users\\dell\\AppData\\Local\\Temp/ipykernel_11796/3357525777.py\"\u001b[1;36m, line \u001b[1;32m4\u001b[0m\n\u001b[1;33m    from nltk.tokenize import word_tokenize text= word_tokenize (listToStr)\u001b[0m\n\u001b[1;37m                                            ^\u001b[0m\n\u001b[1;31mSyntaxError\u001b[0m\u001b[1;31m:\u001b[0m invalid syntax\n"
     ]
    }
   ],
   "source": [
    "#%pip install nl tk\n",
    "#import nltk \n",
    "from nltk.corpus import stopwords #nltk.download ( 'stopwords') \n",
    "from nltk.tokenize import word_tokenize text= word_tokenize (listToStr) \n",
    "data = [word for word in text if not word in stopwords . words ()]\n",
    "print(data)"
   ]
  },
  {
   "cell_type": "code",
   "execution_count": 4,
   "id": "72a2060b",
   "metadata": {},
   "outputs": [
    {
     "ename": "SyntaxError",
     "evalue": "invalid syntax (Temp/ipykernel_11796/2400673105.py, line 2)",
     "output_type": "error",
     "traceback": [
      "\u001b[1;36m  File \u001b[1;32m\"C:\\Users\\dell\\AppData\\Local\\Temp/ipykernel_11796/2400673105.py\"\u001b[1;36m, line \u001b[1;32m2\u001b[0m\n\u001b[1;33m    lemma= WordNet Lemmatizer ()\u001b[0m\n\u001b[1;37m                   ^\u001b[0m\n\u001b[1;31mSyntaxError\u001b[0m\u001b[1;31m:\u001b[0m invalid syntax\n"
     ]
    }
   ],
   "source": [
    "from nltk. stem import WordNetLemmatizer \n",
    "lemma= WordNet Lemmatizer () \n",
    "lem=[ ]\n",
    "for r in data:\n",
    "       lem. append (lemma.lemmatize (r))\n",
    "print (lemma. lemmatize( 'bats '))\n",
    "\n",
    "import re \n",
    "dataupdate= [ ] \n",
    "dataupdate=[re. sub('[^a-zA-z0-9]+ ', '', _) for _ in lem] \n",
    "dataupdate"
   ]
  },
  {
   "cell_type": "code",
   "execution_count": 5,
   "id": "499582d0",
   "metadata": {},
   "outputs": [
    {
     "ename": "SyntaxError",
     "evalue": "EOL while scanning string literal (Temp/ipykernel_11796/3461570373.py, line 7)",
     "output_type": "error",
     "traceback": [
      "\u001b[1;36m  File \u001b[1;32m\"C:\\Users\\dell\\AppData\\Local\\Temp/ipykernel_11796/3461570373.py\"\u001b[1;36m, line \u001b[1;32m7\u001b[0m\n\u001b[1;33m    simplefilter (action='ignore\", category=FutureWarning)\u001b[0m\n\u001b[1;37m                                                          ^\u001b[0m\n\u001b[1;31mSyntaxError\u001b[0m\u001b[1;31m:\u001b[0m EOL while scanning string literal\n"
     ]
    }
   ],
   "source": [
    "from sklearn.feature_extraction. text import TfidfVectorizer \n",
    "from sklearn.cluster import KMeans\n",
    "from sklearn. metrics import adjusted_rand_score\n",
    " # import warnings filter \n",
    "from warnings import simplefilter\n",
    " #ignore all future warnings\n",
    "simplefilter (action='ignore\", category=FutureWarning)\n",
    "vectorizer TfidfVectorizer(stop_words= 'english')\n",
    "X = vectorizer. fit_transform(dataupdate)\n",
    "true_k = 5 \n",
    "model = KMeans (n_clusters=true_k, init= 'k-means++ ', max_iter=100, n_init=1) model.fit (X)\n",
    "print (\"Top terms per cluster: \") order_centroids = model . cluster_centers_. argsort () [:, ::-1] \n",
    "terms = vectorizer.get_feature_names () for i in range(true k): \n",
    "         print(\"Cluster %d:\" % i), \n",
    "         for ind in order_centroids[i, :10]:\n",
    "               print( ' %s' % terms[ind]),"
   ]
  },
  {
   "cell_type": "code",
   "execution_count": 6,
   "id": "5f4f9e59",
   "metadata": {},
   "outputs": [
    {
     "ename": "SyntaxError",
     "evalue": "invalid syntax (Temp/ipykernel_11796/1335356560.py, line 2)",
     "output_type": "error",
     "traceback": [
      "\u001b[1;36m  File \u001b[1;32m\"C:\\Users\\dell\\AppData\\Local\\Temp/ipykernel_11796/1335356560.py\"\u001b[1;36m, line \u001b[1;32m2\u001b[0m\n\u001b[1;33m    Y = vectorizer. transform ( [\"restraint\"]) guessing= model.predict (Y)\u001b[0m\n\u001b[1;37m                                               ^\u001b[0m\n\u001b[1;31mSyntaxError\u001b[0m\u001b[1;31m:\u001b[0m invalid syntax\n"
     ]
    }
   ],
   "source": [
    "print(\"Guessing :\")\n",
    "Y = vectorizer. transform ( [\"restraint\"]) guessing= model.predict (Y)\n",
    "print (guessing)\n",
    "Y =vectorizer. transform ( [\"claim that this cetral aspect of anarchism is definitive is to sell anarchism short\"])\n",
    " guessing = model.predict (Y) \n",
    "print (guessing)"
   ]
  },
  {
   "cell_type": "code",
   "execution_count": null,
   "id": "1046f123",
   "metadata": {},
   "outputs": [],
   "source": []
  }
 ],
 "metadata": {
  "kernelspec": {
   "display_name": "Python 3 (ipykernel)",
   "language": "python",
   "name": "python3"
  },
  "language_info": {
   "codemirror_mode": {
    "name": "ipython",
    "version": 3
   },
   "file_extension": ".py",
   "mimetype": "text/x-python",
   "name": "python",
   "nbconvert_exporter": "python",
   "pygments_lexer": "ipython3",
   "version": "3.9.7"
  }
 },
 "nbformat": 4,
 "nbformat_minor": 5
}
